{
 "cells": [
  {
   "cell_type": "code",
   "execution_count": 1,
   "metadata": {},
   "outputs": [],
   "source": [
    "import requests"
   ]
  },
  {
   "cell_type": "code",
   "execution_count": 28,
   "metadata": {},
   "outputs": [],
   "source": [
    "endpoint = \"https://pokeapi.co/api/v2/pokemon/37/\" # 37 = vulpix\n",
    "r = requests.get(endpoint)"
   ]
  },
  {
   "cell_type": "code",
   "execution_count": 29,
   "metadata": {},
   "outputs": [
    {
     "data": {
      "text/plain": [
       "'vulpix'"
      ]
     },
     "execution_count": 29,
     "metadata": {},
     "output_type": "execute_result"
    }
   ],
   "source": [
    "r # Check response\n",
    "r.json() # Check the entire response\n",
    "r.json().keys() # Check the dictionary keys\n",
    "r.json()['name'] # Check a single attribute"
   ]
  },
  {
   "cell_type": "code",
   "execution_count": 30,
   "metadata": {},
   "outputs": [
    {
     "data": {
      "text/plain": [
       "dict_keys(['abilities', 'base_experience', 'forms', 'game_indices', 'height', 'held_items', 'id', 'is_default', 'location_area_encounters', 'moves', 'name', 'order', 'past_types', 'species', 'sprites', 'stats', 'types', 'weight'])"
      ]
     },
     "execution_count": 30,
     "metadata": {},
     "output_type": "execute_result"
    }
   ],
   "source": [
    "pokemon_r = r.json()"
   ]
  },
  {
   "cell_type": "code",
   "execution_count": 33,
   "metadata": {},
   "outputs": [
    {
     "data": {
      "text/plain": [
       "'https://raw.githubusercontent.com/PokeAPI/sprites/master/sprites/pokemon/37.png'"
      ]
     },
     "execution_count": 33,
     "metadata": {},
     "output_type": "execute_result"
    }
   ],
   "source": [
    "pokemon_r['sprites'] # Wow too many, lets look at the keys\n",
    "pokemon_r['sprites'].keys()\n",
    "pokemon_r['sprites']['front_default'] # Returns a link"
   ]
  },
  {
   "cell_type": "code",
   "execution_count": 38,
   "metadata": {},
   "outputs": [],
   "source": [
    "sprite_dict = {}\n",
    "\n",
    "for i in range(1, 151): # Last number doesnt count\n",
    "    endpoint = f\"https://pokeapi.co/api/v2/pokemon/{i}/\"\n",
    "    r = requests.get(endpoint)\n",
    "    pokemon_r = r.json()\n",
    "    sprite_dict[pokemon_r['name']] = [pokemon_r['sprites']['front_default'],\n",
    "                                     pokemon_r['sprites']['back_default']]"
   ]
  },
  {
   "cell_type": "code",
   "execution_count": null,
   "metadata": {},
   "outputs": [],
   "source": [
    "img = requests.get('https://raw.githubusercontent.com/PokeAPI/sprites/master/sprites/pokemon/37.png').content\n",
    "with open ('image_name.png', 'wb') as handler:\n",
    "    handler.write(img)\n",
    "\n",
    "sprite_dict"
   ]
  },
  {
   "cell_type": "code",
   "execution_count": 41,
   "metadata": {},
   "outputs": [],
   "source": [
    "# Loop through the list of sprites and download the front and back .png into a folder called 'Sprites\n",
    "for key in sprite_dict:\n",
    "    image_front = sprite_dict[key][0]\n",
    "    image_back = sprite_dict[key][1]\n",
    "\n",
    "    img = requests.get(image_front).content\n",
    "    with open (f'Sprites/{key}_front.png', 'wb') as handler:\n",
    "        handler.write(img)\n",
    "\n",
    "    img = requests.get(image_back).content\n",
    "    with open (f'Sprites/{key}_back.png', 'wb') as handler:\n",
    "        handler.write(img)"
   ]
  },
  {
   "cell_type": "code",
   "execution_count": 44,
   "metadata": {},
   "outputs": [
    {
     "name": "stdout",
     "output_type": "stream",
     "text": [
      "Requirement already satisfied: boto3 in c:\\users\\millie\\miniconda3\\envs\\datacollectionpipeline\\lib\\site-packages (1.24.33)\n",
      "Requirement already satisfied: botocore<1.28.0,>=1.27.33 in c:\\users\\millie\\miniconda3\\envs\\datacollectionpipeline\\lib\\site-packages (from boto3) (1.27.33)\n",
      "Requirement already satisfied: s3transfer<0.7.0,>=0.6.0 in c:\\users\\millie\\miniconda3\\envs\\datacollectionpipeline\\lib\\site-packages (from boto3) (0.6.0)\n",
      "Requirement already satisfied: jmespath<2.0.0,>=0.7.1 in c:\\users\\millie\\miniconda3\\envs\\datacollectionpipeline\\lib\\site-packages (from boto3) (1.0.1)\n",
      "Requirement already satisfied: python-dateutil<3.0.0,>=2.1 in c:\\users\\millie\\miniconda3\\envs\\datacollectionpipeline\\lib\\site-packages (from botocore<1.28.0,>=1.27.33->boto3) (2.8.2)\n",
      "Requirement already satisfied: urllib3<1.27,>=1.25.4 in c:\\users\\millie\\miniconda3\\envs\\datacollectionpipeline\\lib\\site-packages (from botocore<1.28.0,>=1.27.33->boto3) (1.26.9)\n",
      "Requirement already satisfied: six>=1.5 in c:\\users\\millie\\miniconda3\\envs\\datacollectionpipeline\\lib\\site-packages (from python-dateutil<3.0.0,>=2.1->botocore<1.28.0,>=1.27.33->boto3) (1.16.0)\n"
     ]
    }
   ],
   "source": [
    "# Link to S3 Bucket (millie-pokemon-bucket, pokemon_user)\n",
    "# Upload to S3 Bucket\n",
    "# !pip install boto3\n",
    "\n",
    "import boto3\n",
    "\n",
    "s3 = boto3.client('s3')\n",
    "with open(\"Sprites/vulpix_front.png\", \"rb\") as f:\n",
    "    s3.upload_fileobj(f, \"millie-pokemon-bucket\", \"vulpix_front.png\")"
   ]
  },
  {
   "cell_type": "code",
   "execution_count": 22,
   "metadata": {},
   "outputs": [],
   "source": [
    "from dataclasses import dataclass\n",
    "\n",
    "# A method is a function inside a class\n",
    "# name is the perameter, Vulpix is the argument\n",
    "\n",
    "@dataclass\n",
    "class Pokemon:\n",
    "    # Type hinting = giving a hint to the type\n",
    "    # It wont brake if you change the type, but it's your reccomendation to use it\n",
    "    name: str\n",
    "    attack_points: int\n",
    "    defence_points: int\n",
    "    health_points: int\n",
    "    #moves: list = []\n",
    "\n",
    "    def __post_init__(self):\n",
    "        self.say_hello()\n",
    "    \n",
    "    def say_hello(self):\n",
    "        print(f'Hi, I am a {self.name}')\n",
    "\n",
    "    def attack(self, other): # other = pokemon recieving the attack\n",
    "        print(f'{self.name} attacked {other.name}')\n",
    "        other.health_points -= self.attack_points"
   ]
  },
  {
   "cell_type": "code",
   "execution_count": 21,
   "metadata": {},
   "outputs": [
    {
     "name": "stdout",
     "output_type": "stream",
     "text": [
      "Hi, I am a Vulpix\n",
      "Hi, I am a Vaporeon\n"
     ]
    },
    {
     "data": {
      "text/plain": [
       "'Vaporeon'"
      ]
     },
     "execution_count": 21,
     "metadata": {},
     "output_type": "execute_result"
    }
   ],
   "source": [
    "vulpix = Pokemon('Vulpix', 55, 40, 100)\n",
    "vaporeon = Pokemon('Vaporeon', 155, 30, 120)\n",
    "vulpix.name\n",
    "vaporeon.name"
   ]
  },
  {
   "cell_type": "code",
   "execution_count": 23,
   "metadata": {},
   "outputs": [
    {
     "name": "stdout",
     "output_type": "stream",
     "text": [
      "Vulpix attacked Vaporeon\n",
      "<class 'int'>\n"
     ]
    },
    {
     "data": {
      "text/plain": [
       "65"
      ]
     },
     "execution_count": 23,
     "metadata": {},
     "output_type": "execute_result"
    }
   ],
   "source": [
    "vulpix.attack(vaporeon)\n",
    "vaporeon.health_points"
   ]
  },
  {
   "cell_type": "code",
   "execution_count": null,
   "metadata": {},
   "outputs": [],
   "source": [
    "def battle(pokemon_1, pokemon_2):\n",
    "    while True:\n",
    "        pokemon_1.attack(pokemon_2)\n",
    "        if pokemon_1.health_points <= 0:\n",
    "            print(f'{pokemon_1.name} fainted! {pokemon_2.name} won!')\n",
    "            break\n",
    "        pokemon_2.attack(pokemon_1)\n",
    "        if pokemon_2.health_points <= 0:\n",
    "            print(f'{pokemon_2.name} fainted! {pokemon_1.name} won!')\n",
    "            break\n",
    "\n",
    "battle(vulpix, vaporeon)"
   ]
  }
 ],
 "metadata": {
  "kernelspec": {
   "display_name": "Python 3.9.7 ('DataCollectionPipeline')",
   "language": "python",
   "name": "python3"
  },
  "language_info": {
   "codemirror_mode": {
    "name": "ipython",
    "version": 3
   },
   "file_extension": ".py",
   "mimetype": "text/x-python",
   "name": "python",
   "nbconvert_exporter": "python",
   "pygments_lexer": "ipython3",
   "version": "3.9.7"
  },
  "orig_nbformat": 4,
  "vscode": {
   "interpreter": {
    "hash": "89f331584aba9fd139438438d44e9f0981e5b7ec53d275c2a7e5fdd51f9e359f"
   }
  }
 },
 "nbformat": 4,
 "nbformat_minor": 2
}
