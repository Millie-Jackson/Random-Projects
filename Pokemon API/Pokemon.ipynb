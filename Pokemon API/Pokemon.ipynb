{
 "cells": [
  {
   "cell_type": "code",
   "execution_count": 1,
   "metadata": {},
   "outputs": [],
   "source": [
    "import requests"
   ]
  },
  {
   "cell_type": "code",
   "execution_count": 28,
   "metadata": {},
   "outputs": [],
   "source": [
    "endpoint = \"https://pokeapi.co/api/v2/pokemon/37/\" # 37 = vulpix\n",
    "r = requests.get(endpoint)"
   ]
  },
  {
   "cell_type": "code",
   "execution_count": 29,
   "metadata": {},
   "outputs": [
    {
     "data": {
      "text/plain": [
       "'vulpix'"
      ]
     },
     "execution_count": 29,
     "metadata": {},
     "output_type": "execute_result"
    }
   ],
   "source": [
    "r # Check response\n",
    "r.json() # Check the entire response\n",
    "r.json().keys() # Check the dictionary keys\n",
    "r.json()['name'] # Check a single attribute"
   ]
  },
  {
   "cell_type": "code",
   "execution_count": 30,
   "metadata": {},
   "outputs": [
    {
     "data": {
      "text/plain": [
       "dict_keys(['abilities', 'base_experience', 'forms', 'game_indices', 'height', 'held_items', 'id', 'is_default', 'location_area_encounters', 'moves', 'name', 'order', 'past_types', 'species', 'sprites', 'stats', 'types', 'weight'])"
      ]
     },
     "execution_count": 30,
     "metadata": {},
     "output_type": "execute_result"
    }
   ],
   "source": [
    "pokemon_r = r.json()"
   ]
  },
  {
   "cell_type": "code",
   "execution_count": 33,
   "metadata": {},
   "outputs": [
    {
     "data": {
      "text/plain": [
       "'https://raw.githubusercontent.com/PokeAPI/sprites/master/sprites/pokemon/37.png'"
      ]
     },
     "execution_count": 33,
     "metadata": {},
     "output_type": "execute_result"
    }
   ],
   "source": [
    "pokemon_r['sprites'] # Wow too many, lets look at the keys\n",
    "pokemon_r['sprites'].keys()\n",
    "pokemon_r['sprites']['front_default'] # Returns a link"
   ]
  },
  {
   "cell_type": "code",
   "execution_count": 38,
   "metadata": {},
   "outputs": [],
   "source": [
    "sprite_dict = {}\n",
    "\n",
    "for i in range(1, 151): # Last number doesnt count\n",
    "    endpoint = f\"https://pokeapi.co/api/v2/pokemon/{i}/\"\n",
    "    r = requests.get(endpoint)\n",
    "    pokemon_r = r.json()\n",
    "    sprite_dict[pokemon_r['name']] = [pokemon_r['sprites']['front_default'],\n",
    "                                     pokemon_r['sprites']['back_default']]"
   ]
  },
  {
   "cell_type": "code",
   "execution_count": null,
   "metadata": {},
   "outputs": [],
   "source": [
    "img = requests.get('https://raw.githubusercontent.com/PokeAPI/sprites/master/sprites/pokemon/37.png').content\n",
    "with open ('image_name.png', 'wb') as handler:\n",
    "    handler.write(img)\n",
    "\n",
    "sprite_dict"
   ]
  },
  {
   "cell_type": "code",
   "execution_count": 41,
   "metadata": {},
   "outputs": [],
   "source": [
    "# Loop through the list of sprites and download the front and back .png into a folder called 'Sprites\n",
    "for key in sprite_dict:\n",
    "    image_front = sprite_dict[key][0]\n",
    "    image_back = sprite_dict[key][1]\n",
    "\n",
    "    img = requests.get(image_front).content\n",
    "    with open (f'Sprites/{key}_front.png', 'wb') as handler:\n",
    "        handler.write(img)\n",
    "\n",
    "    img = requests.get(image_back).content\n",
    "    with open (f'Sprites/{key}_back.png', 'wb') as handler:\n",
    "        handler.write(img)"
   ]
  },
  {
   "cell_type": "code",
   "execution_count": null,
   "metadata": {},
   "outputs": [],
   "source": [
    "# Link to S3 Bucket (millie-pokemon-bucket, pokemon_user)\n",
    "# Upload to S3 Bucket\n",
    "# !pip install boto3\n",
    "\n",
    "import boto3\n",
    "\n",
    "s3 = boto3.client('s3')\n",
    "with open(\"Sprites/vulpix_front.png\", \"rb\") as f:\n",
    "    s3.upload_fileobj(f, \"millie-pokemon-bucket\", \"vulpix_front.png\")"
   ]
  },
  {
   "cell_type": "code",
   "execution_count": 41,
   "metadata": {},
   "outputs": [],
   "source": [
    "from dataclasses import dataclass\n",
    "\n",
    "# A method is a function inside a class\n",
    "# name is the perameter, Vulpix is the argument\n",
    "\n",
    "@dataclass\n",
    "class Pokemon:\n",
    "    # Type hinting = giving a hint to the type\n",
    "    # It wont brake if you change the type, but it's your reccomendation to use it\n",
    "    name: str\n",
    "    attack_points: int\n",
    "    defence_points: int\n",
    "    health_points: int\n",
    "    element: str\n",
    "    #moves: list = []\n",
    "\n",
    "    # __<>__ is a magic method\n",
    "    # Used to define how the custom class is to behave when it interacts with built in functions\n",
    "    #def __post_init__(self):\n",
    "        #self.say_hello()\n",
    "    \n",
    "    # Representation Magic Method = print Pokemon\n",
    "    def __repr__(self) -> str:\n",
    "        return f'Hi, I am a {self.name}! I am a {self.element} pokemon. I have {self.health_points} HP, {self.attack_points} AP and {self.defence_points} DP'\n",
    "\n",
    "    # GreaterThan Magic Method = > and < Pokemon\n",
    "    def __gt__(self, opponent):\n",
    "        return self.health_points > opponent.health_points\n",
    "\n",
    "    def attack(self, move, opponent): \n",
    "        if move.element > self.element: \n",
    "            print(f'{self.name} attacked {opponent.name}')\n",
    "            opponent.health_points -= self.attack_points\n",
    "        "
   ]
  },
  {
   "cell_type": "code",
   "execution_count": 5,
   "metadata": {},
   "outputs": [
    {
     "name": "stdout",
     "output_type": "stream",
     "text": [
      "Vulpix attacked Vaporeon\n"
     ]
    },
    {
     "data": {
      "text/plain": [
       "65"
      ]
     },
     "execution_count": 5,
     "metadata": {},
     "output_type": "execute_result"
    }
   ],
   "source": [
    "vulpix.attack(vaporeon)\n",
    "vaporeon.health_points"
   ]
  },
  {
   "cell_type": "code",
   "execution_count": 39,
   "metadata": {},
   "outputs": [],
   "source": [
    "class Move:\n",
    "    # First method that will run\n",
    "    def __init__(self, attack_points, element):\n",
    "        self.attack_points = attack_points\n",
    "        self. element = element\n",
    "\n",
    "class FireMove(Move):\n",
    "    def __init__(self, attack_points):\n",
    "        # Only use super() in the child \n",
    "        # Points to the parent to access its methods\n",
    "        super().__init__(attack_points, Element('Fire'))\n",
    "\n",
    "class WaterMove(Move):\n",
    "    def __init__(self, attack_points):\n",
    "        # Only use super() in the child \n",
    "        # Points to the parent to access its methods\n",
    "        super().__init__(attack_points, Element('Water'))\n",
    "\n",
    "class GrassMove(Move):\n",
    "    def __init__(self, attack_points):\n",
    "        # Only use super() in the child \n",
    "        # Points to the parent to access its methods\n",
    "        super().__init__(attack_points, Element('Grass'))\n",
    "\n",
    "class Element:\n",
    "    def __init__(self, name):\n",
    "        self.name = name\n",
    "\n",
    "    def __gt__(self, opponent):\n",
    "        if self.name == 'Grass' and opponent.name == 'Water':\n",
    "            return True\n",
    "        elif self.name == 'Grass' and opponent.name == 'Fire':\n",
    "            return False\n",
    "        elif self.name == 'Water' and opponent.name == 'Fire':\n",
    "            return True\n",
    "        elif self.name == 'Water' and opponent.name == 'Grass':\n",
    "            return False\n",
    "        elif self.name == 'Fire' and opponent.name == 'Grass':\n",
    "            return True\n",
    "        elif self.name == 'Fire' and opponent.name == 'Water':\n",
    "            return False\n",
    "    "
   ]
  },
  {
   "cell_type": "code",
   "execution_count": 34,
   "metadata": {},
   "outputs": [],
   "source": [
    "tackle = Move(40, 'Normal')\n",
    "flamethrower = FireMove(50)\n",
    "water_gun = WaterMove(50)\n",
    "razor_leaf = GrassMove(50)"
   ]
  },
  {
   "cell_type": "code",
   "execution_count": 35,
   "metadata": {},
   "outputs": [
    {
     "data": {
      "text/plain": [
       "'Fire'"
      ]
     },
     "execution_count": 35,
     "metadata": {},
     "output_type": "execute_result"
    }
   ],
   "source": [
    "flamethrower.attack_points\n",
    "flamethrower.element"
   ]
  },
  {
   "cell_type": "code",
   "execution_count": 37,
   "metadata": {},
   "outputs": [
    {
     "name": "stdout",
     "output_type": "stream",
     "text": [
      "False\n"
     ]
    }
   ],
   "source": [
    "fire = Element('Fire')\n",
    "water = Element('Water')\n",
    "grass = Element('Grass')\n",
    "\n",
    "print(fire > water)"
   ]
  },
  {
   "cell_type": "code",
   "execution_count": 42,
   "metadata": {},
   "outputs": [
    {
     "data": {
      "text/plain": [
       "Hi, I am a Vulpix! I am a <__main__.Element object at 0x000001735595C7C0> pokemon. I have 100 HP, 55 AP and 40 DP"
      ]
     },
     "execution_count": 42,
     "metadata": {},
     "output_type": "execute_result"
    }
   ],
   "source": [
    "vulpix = Pokemon('Vulpix', 55, 40, 100, Element('Fire'))\n",
    "vaporeon = Pokemon('Vaporeon', 155, 30, 120, Element('Water'))\n",
    "vulpix\n",
    "vaporeon\n",
    "\n",
    "vulpix > vaporeon\n",
    "vulpix"
   ]
  },
  {
   "cell_type": "code",
   "execution_count": 43,
   "metadata": {},
   "outputs": [
    {
     "ename": "TypeError",
     "evalue": "Pokemon.attack() takes 2 positional arguments but 3 were given",
     "output_type": "error",
     "traceback": [
      "\u001b[1;31m---------------------------------------------------------------------------\u001b[0m",
      "\u001b[1;31mTypeError\u001b[0m                                 Traceback (most recent call last)",
      "\u001b[1;32mc:\\Users\\Squish\\Desktop\\Random-Projects\\Pokemon API\\Pokemon.ipynb Cell 17\u001b[0m in \u001b[0;36m<cell line: 12>\u001b[1;34m()\u001b[0m\n\u001b[0;32m      <a href='vscode-notebook-cell:/c%3A/Users/Squish/Desktop/Random-Projects/Pokemon%20API/Pokemon.ipynb#X15sZmlsZQ%3D%3D?line=8'>9</a>\u001b[0m             \u001b[39mprint\u001b[39m(\u001b[39mf\u001b[39m\u001b[39m'\u001b[39m\u001b[39m{\u001b[39;00mpokemon_2\u001b[39m.\u001b[39mname\u001b[39m}\u001b[39;00m\u001b[39m fainted! \u001b[39m\u001b[39m{\u001b[39;00mpokemon_1\u001b[39m.\u001b[39mname\u001b[39m}\u001b[39;00m\u001b[39m won!\u001b[39m\u001b[39m'\u001b[39m)\n\u001b[0;32m     <a href='vscode-notebook-cell:/c%3A/Users/Squish/Desktop/Random-Projects/Pokemon%20API/Pokemon.ipynb#X15sZmlsZQ%3D%3D?line=9'>10</a>\u001b[0m             \u001b[39mbreak\u001b[39;00m\n\u001b[1;32m---> <a href='vscode-notebook-cell:/c%3A/Users/Squish/Desktop/Random-Projects/Pokemon%20API/Pokemon.ipynb#X15sZmlsZQ%3D%3D?line=11'>12</a>\u001b[0m battle(vulpix, vaporeon)\n",
      "\u001b[1;32mc:\\Users\\Squish\\Desktop\\Random-Projects\\Pokemon API\\Pokemon.ipynb Cell 17\u001b[0m in \u001b[0;36mbattle\u001b[1;34m(pokemon_1, pokemon_2)\u001b[0m\n\u001b[0;32m      <a href='vscode-notebook-cell:/c%3A/Users/Squish/Desktop/Random-Projects/Pokemon%20API/Pokemon.ipynb#X15sZmlsZQ%3D%3D?line=0'>1</a>\u001b[0m \u001b[39mdef\u001b[39;00m \u001b[39mbattle\u001b[39m(pokemon_1, pokemon_2):\n\u001b[0;32m      <a href='vscode-notebook-cell:/c%3A/Users/Squish/Desktop/Random-Projects/Pokemon%20API/Pokemon.ipynb#X15sZmlsZQ%3D%3D?line=1'>2</a>\u001b[0m     \u001b[39mwhile\u001b[39;00m \u001b[39mTrue\u001b[39;00m:\n\u001b[1;32m----> <a href='vscode-notebook-cell:/c%3A/Users/Squish/Desktop/Random-Projects/Pokemon%20API/Pokemon.ipynb#X15sZmlsZQ%3D%3D?line=2'>3</a>\u001b[0m         pokemon_1\u001b[39m.\u001b[39;49mattack(flamethrower, pokemon_2)\n\u001b[0;32m      <a href='vscode-notebook-cell:/c%3A/Users/Squish/Desktop/Random-Projects/Pokemon%20API/Pokemon.ipynb#X15sZmlsZQ%3D%3D?line=3'>4</a>\u001b[0m         \u001b[39mif\u001b[39;00m pokemon_1\u001b[39m.\u001b[39mhealth_points \u001b[39m<\u001b[39m\u001b[39m=\u001b[39m \u001b[39m0\u001b[39m:\n\u001b[0;32m      <a href='vscode-notebook-cell:/c%3A/Users/Squish/Desktop/Random-Projects/Pokemon%20API/Pokemon.ipynb#X15sZmlsZQ%3D%3D?line=4'>5</a>\u001b[0m             \u001b[39mprint\u001b[39m(\u001b[39mf\u001b[39m\u001b[39m'\u001b[39m\u001b[39m{\u001b[39;00mpokemon_1\u001b[39m.\u001b[39mname\u001b[39m}\u001b[39;00m\u001b[39m fainted! \u001b[39m\u001b[39m{\u001b[39;00mpokemon_2\u001b[39m.\u001b[39mname\u001b[39m}\u001b[39;00m\u001b[39m won!\u001b[39m\u001b[39m'\u001b[39m)\n",
      "\u001b[1;31mTypeError\u001b[0m: Pokemon.attack() takes 2 positional arguments but 3 were given"
     ]
    }
   ],
   "source": [
    "def battle(pokemon_1, pokemon_2):\n",
    "    while True:\n",
    "        pokemon_1.attack(flamethrower, pokemon_2)\n",
    "        if pokemon_1.health_points <= 0:\n",
    "            print(f'{pokemon_1.name} fainted! {pokemon_2.name} won!')\n",
    "            break\n",
    "        pokemon_2.attack(water_gun, pokemon_1)\n",
    "        if pokemon_2.health_points <= 0:\n",
    "            print(f'{pokemon_2.name} fainted! {pokemon_1.name} won!')\n",
    "            break\n",
    "\n",
    "battle(vulpix, vaporeon)"
   ]
  }
 ],
 "metadata": {
  "kernelspec": {
   "display_name": "Python 3.10.8 64-bit (microsoft store)",
   "language": "python",
   "name": "python3"
  },
  "language_info": {
   "codemirror_mode": {
    "name": "ipython",
    "version": 3
   },
   "file_extension": ".py",
   "mimetype": "text/x-python",
   "name": "python",
   "nbconvert_exporter": "python",
   "pygments_lexer": "ipython3",
   "version": "3.10.8"
  },
  "orig_nbformat": 4,
  "vscode": {
   "interpreter": {
    "hash": "8325d31a0c7c781ccbb7e27e3e248bb83e947e47d9a7ede05b7dbef0a5e8eb32"
   }
  }
 },
 "nbformat": 4,
 "nbformat_minor": 2
}
